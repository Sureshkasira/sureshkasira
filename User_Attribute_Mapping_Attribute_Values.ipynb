{
  "nbformat": 4,
  "nbformat_minor": 0,
  "metadata": {
    "colab": {
      "provenance": [],
      "authorship_tag": "ABX9TyNGqtuCsE92u5FB4NCrNTzI",
      "include_colab_link": true
    },
    "kernelspec": {
      "name": "python3",
      "display_name": "Python 3"
    },
    "language_info": {
      "name": "python"
    }
  },
  "cells": [
    {
      "cell_type": "markdown",
      "metadata": {
        "id": "view-in-github",
        "colab_type": "text"
      },
      "source": [
        "<a href=\"https://colab.research.google.com/github/sureshkasiraboina/sureshkasira/blob/master/User_Attribute_Mapping_Attribute_Values.ipynb\" target=\"_parent\"><img src=\"https://colab.research.google.com/assets/colab-badge.svg\" alt=\"Open In Colab\"/></a>"
      ]
    },
    {
      "cell_type": "code",
      "execution_count": null,
      "metadata": {
        "colab": {
          "base_uri": "https://localhost:8080/"
        },
        "id": "sdaRWB8YSfat",
        "outputId": "a657fcb9-0d89-4493-b516-86391bfadb3b"
      },
      "outputs": [
        {
          "output_type": "stream",
          "name": "stdout",
          "text": [
            "Collecting looker-sdk\n",
            "  Downloading looker_sdk-24.16.2-py3-none-any.whl.metadata (7.0 kB)\n",
            "Requirement already satisfied: requests>=2.22 in /usr/local/lib/python3.10/dist-packages (from looker-sdk) (2.32.3)\n",
            "Requirement already satisfied: typing-extensions>=4.1.1 in /usr/local/lib/python3.10/dist-packages (from looker-sdk) (4.12.2)\n",
            "Requirement already satisfied: attrs>=20.1.0 in /usr/local/lib/python3.10/dist-packages (from looker-sdk) (24.2.0)\n",
            "Collecting cattrs>=1.3 (from looker-sdk)\n",
            "  Downloading cattrs-24.1.2-py3-none-any.whl.metadata (8.4 kB)\n",
            "Requirement already satisfied: exceptiongroup>=1.1.1 in /usr/local/lib/python3.10/dist-packages (from cattrs>=1.3->looker-sdk) (1.2.2)\n",
            "Requirement already satisfied: charset-normalizer<4,>=2 in /usr/local/lib/python3.10/dist-packages (from requests>=2.22->looker-sdk) (3.3.2)\n",
            "Requirement already satisfied: idna<4,>=2.5 in /usr/local/lib/python3.10/dist-packages (from requests>=2.22->looker-sdk) (3.10)\n",
            "Requirement already satisfied: urllib3<3,>=1.21.1 in /usr/local/lib/python3.10/dist-packages (from requests>=2.22->looker-sdk) (2.2.3)\n",
            "Requirement already satisfied: certifi>=2017.4.17 in /usr/local/lib/python3.10/dist-packages (from requests>=2.22->looker-sdk) (2024.8.30)\n",
            "Downloading looker_sdk-24.16.2-py3-none-any.whl (228 kB)\n",
            "\u001b[2K   \u001b[90m━━━━━━━━━━━━━━━━━━━━━━━━━━━━━━━━━━━━━━━━\u001b[0m \u001b[32m228.4/228.4 kB\u001b[0m \u001b[31m8.5 MB/s\u001b[0m eta \u001b[36m0:00:00\u001b[0m\n",
            "\u001b[?25hDownloading cattrs-24.1.2-py3-none-any.whl (66 kB)\n",
            "\u001b[2K   \u001b[90m━━━━━━━━━━━━━━━━━━━━━━━━━━━━━━━━━━━━━━━━\u001b[0m \u001b[32m66.4/66.4 kB\u001b[0m \u001b[31m3.2 MB/s\u001b[0m eta \u001b[36m0:00:00\u001b[0m\n",
            "\u001b[?25hInstalling collected packages: cattrs, looker-sdk\n",
            "Successfully installed cattrs-24.1.2 looker-sdk-24.16.2\n",
            "Requirement already satisfied: pandas in /usr/local/lib/python3.10/dist-packages (2.2.2)\n",
            "Requirement already satisfied: numpy>=1.22.4 in /usr/local/lib/python3.10/dist-packages (from pandas) (1.26.4)\n",
            "Requirement already satisfied: python-dateutil>=2.8.2 in /usr/local/lib/python3.10/dist-packages (from pandas) (2.8.2)\n",
            "Requirement already satisfied: pytz>=2020.1 in /usr/local/lib/python3.10/dist-packages (from pandas) (2024.2)\n",
            "Requirement already satisfied: tzdata>=2022.7 in /usr/local/lib/python3.10/dist-packages (from pandas) (2024.2)\n",
            "Requirement already satisfied: six>=1.5 in /usr/local/lib/python3.10/dist-packages (from python-dateutil>=2.8.2->pandas) (1.16.0)\n"
          ]
        }
      ],
      "source": [
        "!pip install looker-sdk\n",
        "\n",
        "!pip install pandas"
      ]
    },
    {
      "cell_type": "code",
      "source": [
        "import looker_sdk\n",
        "import requests\n",
        "import pandas as pd\n",
        "from looker_sdk import  models40\n",
        "import json\n",
        "\n",
        "from google.colab import drive\n",
        "drive.mount('/content/drive')"
      ],
      "metadata": {
        "id": "WE-DNXVsSrpj"
      },
      "execution_count": null,
      "outputs": []
    },
    {
      "cell_type": "code",
      "source": [
        "# Initialize Looker SDK using the configuration file path\n",
        "sdk = looker_sdk.init40(\"/content/drive/My Drive/credintial.ini\")\n",
        "\n",
        "# Get information about the authenticated user\n",
        "user = sdk.me()\n",
        "\n",
        "# # Print the user's ID\n",
        "print(f\"User ID: {user.id}\")\n",
        "\n",
        "# # Print the user's display name\n",
        "print(f\"User Name: {user.display_name}\")"
      ],
      "metadata": {
        "id": "Ja4l5bfsSw8p"
      },
      "execution_count": null,
      "outputs": []
    },
    {
      "cell_type": "markdown",
      "source": [
        "**Upload the excel file Colab Folder and Read the file**"
      ],
      "metadata": {
        "id": "DjDNF1q3S8Mj"
      }
    },
    {
      "cell_type": "code",
      "source": [
        "# Assuming your file is named 'file.xlsx'\n",
        "df = pd.read_excel('/content/engagementrls.xlsx')\n",
        "\n",
        "# Display the DataFrame\n",
        "df"
      ],
      "metadata": {
        "id": "wBNW_8p1S3DY"
      },
      "execution_count": null,
      "outputs": []
    },
    {
      "cell_type": "markdown",
      "source": [
        "**GETTING USER ID from USER EMAIL**"
      ],
      "metadata": {
        "id": "wPUbxEG-TKUZ"
      }
    },
    {
      "cell_type": "code",
      "source": [
        "def get_user_id_by_email(email):\n",
        "    try:\n",
        "        user = sdk.search_users(email=email)\n",
        "        if user:\n",
        "            return user[0].id\n",
        "        else:\n",
        "            return None\n",
        "    except Exception as e:\n",
        "        print(f\"Error retrieving user ID for email {email}: {e}\")\n",
        "        return None\n",
        "\n",
        "def add_user_ids_to_df(df):\n",
        "    # Check if DataFrame has the necessary columns\n",
        "    if 'Email' not in df.columns:\n",
        "        raise KeyError(\"The DataFrame must contain an 'Email' column.\")\n",
        "\n",
        "    # Get unique emails from the DataFrame\n",
        "    unique_emails = df['Email'].unique()\n",
        "\n",
        "    # Create a dictionary to store email to user_id mapping\n",
        "    email_to_user_id = {}\n",
        "\n",
        "    # Fetch user IDs for each unique email\n",
        "    for email in unique_emails:\n",
        "        user_id = get_user_id_by_email(email)\n",
        "        email_to_user_id[email] = user_id\n",
        "\n",
        "    # Map user IDs back to the DataFrame\n",
        "    df['user_id'] = df['Email'].map(email_to_user_id)\n",
        "\n",
        "    return df\n",
        "df = add_user_ids_to_df(df)\n",
        "df"
      ],
      "metadata": {
        "id": "J6V7uxhYS6dJ"
      },
      "execution_count": null,
      "outputs": []
    },
    {
      "cell_type": "markdown",
      "source": [
        "**ADDING A COLUMN NAMED ATTRIBUTE_ID and changing column name**"
      ],
      "metadata": {
        "id": "ANfRdfdLTQ5g"
      }
    },
    {
      "cell_type": "code",
      "source": [
        "df['attribute_id'] = 47\n",
        "df = df.rename(columns={'School': 'attribute_value'})\n",
        "df"
      ],
      "metadata": {
        "id": "w1vqYzmCTSUI"
      },
      "execution_count": null,
      "outputs": []
    },
    {
      "cell_type": "markdown",
      "source": [
        "**Assigning Attribute Values to the Users**"
      ],
      "metadata": {
        "id": "RN__iqNvTiGo"
      }
    },
    {
      "cell_type": "code",
      "source": [
        "\n",
        "\n",
        "def set_user_attribute_values(df):\n",
        "    # Check if DataFrame has the necessary columns\n",
        "    if not {'user_id', 'attribute_id', 'attribute_value'}.issubset(df.columns):\n",
        "        raise KeyError(\"The DataFrame must contain 'user_id', 'attribute_id', and 'attribute_value' columns.\")\n",
        "\n",
        "    # Group by user_id and attribute_id, then aggregate the attribute_values\n",
        "    aggregated_df = df.groupby(['user_id', 'attribute_id'])['attribute_value'].apply(lambda x: ','.join(x)).reset_index()\n",
        "\n",
        "    # Iterate through each row in the aggregated DataFrame\n",
        "    for index, row in aggregated_df.iterrows():\n",
        "        user_id = row['user_id']\n",
        "        attribute_id = str(row['attribute_id'])  # Convert to string if required\n",
        "        attribute_value = row['attribute_value']\n",
        "\n",
        "        # Print for debugging\n",
        "        print(f\"Updating user_id: {user_id}, attribute_id: {attribute_id}, value: {attribute_value}\")\n",
        "\n",
        "        # Update the user attribute using Looker SDK\n",
        "        try:\n",
        "            # Ensure the API method and parameters match the documentation\n",
        "            sdk.set_user_attribute_user_value(\n",
        "                user_id=user_id,  # Ensure this is an integer\n",
        "                user_attribute_id=attribute_id,  # Convert this if needed\n",
        "                body={'value': attribute_value}  # Ensure this is a dictionary\n",
        "            )\n",
        "            print(f\"Updated user_id {user_id} with attribute_id {attribute_id} to value {attribute_value}\")\n",
        "        except Exception as e:\n",
        "            print(f\"Error updating user_id {user_id} with attribute_id {attribute_id}: {e}\")\n",
        "\n",
        "\n",
        "set_user_attribute_values(df)"
      ],
      "metadata": {
        "id": "c2FOian-TnBw"
      },
      "execution_count": null,
      "outputs": []
    }
  ]
}